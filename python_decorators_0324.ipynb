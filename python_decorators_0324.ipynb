{
 "cells": [
  {
   "attachments": {},
   "cell_type": "markdown",
   "metadata": {},
   "source": [
    "# Introduction to Decorators in Python:\n"
   ]
  },
  {
   "attachments": {},
   "cell_type": "markdown",
   "metadata": {},
   "source": [
    "## Intro: Counting calls of function (manually implementing a decorator)"
   ]
  },
  {
   "cell_type": "code",
   "execution_count": 1,
   "metadata": {},
   "outputs": [],
   "source": [
    "def fib_rec(n):\n",
    "    \"\"\"Naive recurse implementation to compute the Fibonacci numbers.\"\"\"\n",
    "    if n in [0,1] :\n",
    "        return n\n",
    "    else:\n",
    "        return fib_rec(n-1) + fib_rec(n-2)"
   ]
  },
  {
   "cell_type": "code",
   "execution_count": 2,
   "metadata": {},
   "outputs": [
    {
     "data": {
      "text/plain": [
       "[0, 1, 1, 2, 3, 5, 8, 13, 21, 34]"
      ]
     },
     "execution_count": 2,
     "metadata": {},
     "output_type": "execute_result"
    }
   ],
   "source": [
    "[fib_rec(n) for n in range(10)]"
   ]
  },
  {
   "cell_type": "code",
   "execution_count": 3,
   "metadata": {},
   "outputs": [],
   "source": [
    "# just to keep a reference to the original function (it'll get modified)\n",
    "fib_rec_orig = fib_rec"
   ]
  },
  {
   "attachments": {},
   "cell_type": "markdown",
   "metadata": {},
   "source": [
    "When using this approach to compute fib_rec for not so small n's (say n>=40)  \n",
    "we notive that it is quite slow. We'd like keep track of the number of calls. \n",
    "\n",
    "- Alternative1: Manually add an attribute n_calls to fib_rec.\n",
    "- Alternative2: Try to come up with a more general solution that can \n",
    "  be reused for other functions. \n",
    "  "
   ]
  },
  {
   "cell_type": "code",
   "execution_count": 4,
   "metadata": {},
   "outputs": [],
   "source": [
    "def call_counter(func):\n",
    "\tdef helper(*args, **kwargs):\n",
    "\t\thelper.calls += 1\n",
    "\t\treturn func(*args, **kwargs)\n",
    "\thelper.calls = 0\n",
    "\thelper.__name__ = func.__name__\n",
    "\n",
    "\treturn helper"
   ]
  },
  {
   "cell_type": "markdown",
   "metadata": {},
   "source": [
    "The classical way of using this would be:"
   ]
  },
  {
   "cell_type": "code",
   "execution_count": 5,
   "metadata": {},
   "outputs": [],
   "source": [
    "fib_rec = call_counter(fib_rec)"
   ]
  },
  {
   "cell_type": "code",
   "execution_count": 6,
   "metadata": {},
   "outputs": [
    {
     "data": {
      "text/plain": [
       "6765"
      ]
     },
     "execution_count": 6,
     "metadata": {},
     "output_type": "execute_result"
    }
   ],
   "source": [
    "fib_rec(20)"
   ]
  },
  {
   "cell_type": "code",
   "execution_count": 7,
   "metadata": {},
   "outputs": [
    {
     "name": "stdout",
     "output_type": "stream",
     "text": [
      "21891\n"
     ]
    }
   ],
   "source": [
    "print(fib_rec.calls)"
   ]
  },
  {
   "cell_type": "code",
   "execution_count": 8,
   "metadata": {},
   "outputs": [
    {
     "name": "stdout",
     "output_type": "stream",
     "text": [
      "832040\n",
      "2714428\n"
     ]
    }
   ],
   "source": [
    "# just to illustrate that the function is really called quite often\n",
    "print(fib_rec(30))\n",
    "print(fib_rec.calls)"
   ]
  },
  {
   "cell_type": "markdown",
   "metadata": {},
   "source": [
    "# Making a function \"remember\" values: Memoization"
   ]
  },
  {
   "cell_type": "markdown",
   "metadata": {},
   "source": [
    "https://python-course.eu/advanced-python/memoization-decorators.php"
   ]
  },
  {
   "attachments": {},
   "cell_type": "markdown",
   "metadata": {},
   "source": [
    "## Using decorators via the @ syntax "
   ]
  },
  {
   "attachments": {},
   "cell_type": "markdown",
   "metadata": {},
   "source": [
    "Suppose the call_counter function/decorator has been defined as above:"
   ]
  },
  {
   "cell_type": "code",
   "execution_count": 9,
   "metadata": {},
   "outputs": [],
   "source": [
    "def call_counter(func):\n",
    "\tdef helper(*args, **kwargs):\n",
    "\t\thelper.calls += 1\n",
    "\t\treturn func(*args, **kwargs)\n",
    "\thelper.calls = 0\n",
    "\thelper.__name__ = func.__name__\n",
    "\n",
    "\treturn helper"
   ]
  },
  {
   "attachments": {},
   "cell_type": "markdown",
   "metadata": {},
   "source": [
    "We can then wrap others functions using the synatax:\n",
    "\t\n",
    "\t\t@call_counter\n",
    "\t\tdef function_to_be_wrapped(....) :\n",
    "\t"
   ]
  },
  {
   "attachments": {},
   "cell_type": "markdown",
   "metadata": {},
   "source": [
    "In general \n",
    "\n",
    "\t\t@f  \n",
    "\t\tdef g(...)  \n",
    "\n",
    "has the same effect as: \n",
    "g = f(g) \n"
   ]
  },
  {
   "cell_type": "code",
   "execution_count": 10,
   "metadata": {},
   "outputs": [],
   "source": [
    "@call_counter\n",
    "def fib_rec(n):\n",
    "    \"\"\"Naive recurse implementation to compute the Fibonacci numbers.\"\"\"\n",
    "    if n in [0,1] :\n",
    "        return n\n",
    "    else:\n",
    "        return fib_rec(n-1) + fib_rec(n-2)"
   ]
  },
  {
   "cell_type": "code",
   "execution_count": 11,
   "metadata": {},
   "outputs": [
    {
     "name": "stdout",
     "output_type": "stream",
     "text": [
      "6765\n",
      "21891\n"
     ]
    }
   ],
   "source": [
    "print(fib_rec(20))\n",
    "print(fib_rec.calls)"
   ]
  },
  {
   "cell_type": "code",
   "execution_count": 12,
   "metadata": {},
   "outputs": [
    {
     "name": "stdout",
     "output_type": "stream",
     "text": [
      "6765\n",
      "43782\n"
     ]
    }
   ],
   "source": [
    "# remark: Here \"calls\" counts the total number of calls, not the calls used for \n",
    "# one specific calculation.\n",
    "print(fib_rec(20))\n",
    "print(fib_rec.calls)"
   ]
  },
  {
   "attachments": {},
   "cell_type": "markdown",
   "metadata": {},
   "source": [
    "Decorators can be composed and the composition is done as we know it from mathematics:"
   ]
  },
  {
   "attachments": {},
   "cell_type": "markdown",
   "metadata": {},
   "source": [
    "\t@dec1\n",
    "\t@dec2\n",
    "\tdef foo():\n",
    "    \n",
    "is the same as : \n",
    "\n",
    "foo = dec1(dec2(foo)).\n",
    "\n",
    "Thus the composition of decorators is just the same as the composition of functions. "
   ]
  },
  {
   "cell_type": "markdown",
   "metadata": {},
   "source": [
    "## Loss of docstrings and what to do about it"
   ]
  },
  {
   "cell_type": "markdown",
   "metadata": {},
   "source": [
    "Remember we kept a 'backup' of our original fib_rec function before decorationg it: fib_rec_orig"
   ]
  },
  {
   "cell_type": "code",
   "execution_count": 13,
   "metadata": {},
   "outputs": [
    {
     "name": "stdout",
     "output_type": "stream",
     "text": [
      "Naive recurse implementation to compute the Fibonacci numbers.\n"
     ]
    }
   ],
   "source": [
    "print(fib_rec_orig.__doc__)"
   ]
  },
  {
   "cell_type": "code",
   "execution_count": 14,
   "metadata": {},
   "outputs": [
    {
     "name": "stdout",
     "output_type": "stream",
     "text": [
      "None\n"
     ]
    }
   ],
   "source": [
    "print(fib_rec.__doc__)"
   ]
  },
  {
   "attachments": {},
   "cell_type": "markdown",
   "metadata": {},
   "source": [
    "We see: The docstring disappeared. Of course it did, we just \n",
    "need to look at our defintion of call_counter. \n",
    "\n",
    "To avoid this one usually use the functools.wraps which \n",
    "handles organizational stuff like docstrings for us:"
   ]
  },
  {
   "cell_type": "code",
   "execution_count": 15,
   "metadata": {},
   "outputs": [],
   "source": [
    "import functools"
   ]
  },
  {
   "cell_type": "code",
   "execution_count": 16,
   "metadata": {},
   "outputs": [],
   "source": [
    "def call_counter_via_wraps(func):\n",
    "\t@functools.wraps(func)\n",
    "\tdef helper(*args, **kwargs):\n",
    "\t\thelper.calls += 1\n",
    "\t\treturn func(*args, **kwargs)\n",
    "\thelper.calls = 0\n",
    "\thelper.__name__ = func.__name__\n",
    "\n",
    "\treturn helper"
   ]
  },
  {
   "cell_type": "code",
   "execution_count": 17,
   "metadata": {},
   "outputs": [],
   "source": [
    "@call_counter_via_wraps\n",
    "def fib_rec(n):\n",
    "    \"\"\"Naive recurse implementation to compute the Fibonacci numbers.\"\"\"\n",
    "    if n in [0,1] :\n",
    "        return n\n",
    "    else:\n",
    "        return fib_rec(n-1) + fib_rec(n-2)"
   ]
  },
  {
   "cell_type": "code",
   "execution_count": 18,
   "metadata": {},
   "outputs": [
    {
     "name": "stdout",
     "output_type": "stream",
     "text": [
      "Naive recurse implementation to compute the Fibonacci numbers.\n"
     ]
    }
   ],
   "source": [
    "print(fib_rec.__doc__)"
   ]
  },
  {
   "cell_type": "markdown",
   "metadata": {},
   "source": [
    "# A simpple logging Decorator"
   ]
  },
  {
   "cell_type": "code",
   "execution_count": 19,
   "metadata": {},
   "outputs": [
    {
     "name": "stdout",
     "output_type": "stream",
     "text": [
      "Starting say_hello\n",
      "Hello, Alice!\n",
      "Finished say_hello\n"
     ]
    }
   ],
   "source": [
    "def logging_decorator(func):\n",
    "    def wrapper(*args, **kwargs):\n",
    "        print(f\"Starting {func.__name__}\")\n",
    "        result = func(*args, **kwargs)\n",
    "        print(f\"Finished {func.__name__}\")\n",
    "        return result\n",
    "    return wrapper\n",
    "\n",
    "@logging_decorator\n",
    "def say_hello(name):\n",
    "    print(f\"Hello, {name}!\")\n",
    "\n",
    "say_hello(\"Alice\")\n"
   ]
  },
  {
   "cell_type": "markdown",
   "metadata": {},
   "source": [
    "# Detecting exections"
   ]
  },
  {
   "cell_type": "code",
   "execution_count": 20,
   "metadata": {},
   "outputs": [
    {
     "name": "stdout",
     "output_type": "stream",
     "text": [
      "Result: 2.0\n",
      "An exception occurred in divide: division by zero\n",
      "Result: None\n"
     ]
    }
   ],
   "source": [
    "def catch_exceptions_decorator(func):\n",
    "    def wrapper(*args, **kwargs):\n",
    "        try:\n",
    "            return func(*args, **kwargs)\n",
    "        except Exception as e:\n",
    "            print(f\"An exception occurred in {func.__name__}: {e}\")\n",
    "            # You can handle the exception here or re-raise it if needed\n",
    "    return wrapper\n",
    "\n",
    "@catch_exceptions_decorator\n",
    "def divide(a, b):\n",
    "    return a / b\n",
    "\n",
    "result = divide(4, 2)  # No exception, should return 2\n",
    "print(f\"Result: {result}\")\n",
    "\n",
    "result = divide(4, 0)  # ZeroDivisionError exception, should be caught by the decorator\n",
    "print(f\"Result: {result}\")"
   ]
  },
  {
   "cell_type": "markdown",
   "metadata": {},
   "source": [
    "# Decorators with Arguments"
   ]
  },
  {
   "cell_type": "markdown",
   "metadata": {},
   "source": [
    "You can define a **decorator function that takes arguments** by defining  \n",
    "a nested function that takes the arguments and returns the decorator function.  \n",
    "For example:"
   ]
  },
  {
   "cell_type": "code",
   "execution_count": 21,
   "metadata": {},
   "outputs": [
    {
     "name": "stdout",
     "output_type": "stream",
     "text": [
      "Decorator arguments: Hallo, World\n",
      "Hello, world!\n"
     ]
    }
   ],
   "source": [
    "def my_decorator_with_args(arg1, arg2):\n",
    "    def decorator(func):\n",
    "        def wrapper(*args, **kwargs):\n",
    "            print(f\"Decorator arguments: {arg1}, {arg2}\")\n",
    "            return func(*args, **kwargs)\n",
    "        return wrapper\n",
    "    return decorator\n",
    "\n",
    "@my_decorator_with_args(\"Hallo\", \"World\")\n",
    "def my_function():\n",
    "    print(\"Hello, world!\")\n",
    "    \n",
    "my_function()\n"
   ]
  },
  {
   "attachments": {},
   "cell_type": "markdown",
   "metadata": {},
   "source": [
    "# Summary"
   ]
  },
  {
   "cell_type": "code",
   "execution_count": null,
   "metadata": {},
   "outputs": [],
   "source": []
  },
  {
   "attachments": {},
   "cell_type": "markdown",
   "metadata": {},
   "source": [
    "    Definition of Decorators:\n",
    "\n",
    "Decorators are a feature of Python that allows you to modify the behavior of a  \n",
    "function or class without changing the source code. They are more or less functions  \n",
    "that take in a function as an argument and return a modified version of the same function.\n",
    "\n",
    "    Syntax of Decorators:\n",
    "\n",
    "The syntax for a decorator is to place the decorator function above the function being modified,  \n",
    "and to use the \"@\" symbol to indicate that the function is being decorated. For example:"
   ]
  },
  {
   "attachments": {},
   "cell_type": "markdown",
   "metadata": {},
   "source": [
    "Basic Use Cases"
   ]
  },
  {
   "attachments": {},
   "cell_type": "markdown",
   "metadata": {},
   "source": [
    "- add functionality to an existing functin, e.g. modify its input or output:\n",
    "  Example: show the time it takes to run a function"
   ]
  },
  {
   "attachments": {},
   "cell_type": "markdown",
   "metadata": {},
   "source": [
    "Built-in Decorators:"
   ]
  },
  {
   "attachments": {},
   "cell_type": "markdown",
   "metadata": {},
   "source": [
    "- @staticmethod\n",
    "- @classmethod\n",
    "- @property"
   ]
  },
  {
   "cell_type": "markdown",
   "metadata": {},
   "source": [
    "# References"
   ]
  },
  {
   "attachments": {},
   "cell_type": "markdown",
   "metadata": {},
   "source": [
    "- https://python-course.eu/advanced-python/decorators-decoration.php \n",
    "- https://www.python-kurs.eu/python3_dekorateure.php\n",
    "- [Einführung in Python, Bernd Klein, 4e, Hanser Verlag], Kap.36 \"Dokorateure\""
   ]
  },
  {
   "attachments": {},
   "cell_type": "markdown",
   "metadata": {},
   "source": [
    "- https://realpython.com/primer-on-python-decorators/\n",
    "- This following link only gives a glimpse of decorators, however **Kristian Rothers**  \n",
    "  github repos are a great resource for learning python:  \n",
    "  https://github.com/krother/advanced_python/blob/master/functions/decorators.md"
   ]
  },
  {
   "attachments": {},
   "cell_type": "markdown",
   "metadata": {},
   "source": [
    "- https://towardsdatascience.com/5-real-handy-python-decorators-for-analyzing-debugging-your-code-c22067318d47"
   ]
  },
  {
   "attachments": {},
   "cell_type": "markdown",
   "metadata": {},
   "source": [
    "# "
   ]
  }
 ],
 "metadata": {
  "kernelspec": {
   "display_name": "Python 3.10.4 64-bit",
   "language": "python",
   "name": "python3"
  },
  "language_info": {
   "codemirror_mode": {
    "name": "ipython",
    "version": 3
   },
   "file_extension": ".py",
   "mimetype": "text/x-python",
   "name": "python",
   "nbconvert_exporter": "python",
   "pygments_lexer": "ipython3",
   "version": "3.10.4"
  },
  "orig_nbformat": 4,
  "vscode": {
   "interpreter": {
    "hash": "369f2c481f4da34e4445cda3fffd2e751bd1c4d706f27375911949ba6bb62e1c"
   }
  }
 },
 "nbformat": 4,
 "nbformat_minor": 2
}
